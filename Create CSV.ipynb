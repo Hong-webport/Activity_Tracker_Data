{
 "cells": [
  {
   "cell_type": "code",
   "execution_count": 1,
   "id": "f08da070-56f1-4fa3-b35d-bfe7eed90c6f",
   "metadata": {},
   "outputs": [],
   "source": [
    "import pandas as pd\n",
    "import matplotlib as plt"
   ]
  },
  {
   "cell_type": "code",
   "execution_count": 2,
   "id": "216974d3-b00f-42f7-aa30-f6121b7859ec",
   "metadata": {},
   "outputs": [],
   "source": [
    "# writing a csv\n",
    "\n",
    "weeks=[\"1\",\"2\",\"3\",\"4\"]\n",
    "sleep = 0\n",
    "lag = 0\n",
    "passive=[\"News\", \"Blogs\",\"Books\",\"Psychological\",\"Self\",\"Interviews\",  \"Health\", \"Maths\", \"Comp\", \"Communication\", \"Chinese\"]\n",
    "active = [\"Coding\", \"Appointments\", \"Obligation\", \"Network Events\", \"Applications\", \"Design\", \"Interviews\", \"CodeTest\", \"Linkedin\", \"Analytical\"]\n",
    "routine=[\"Finance-Record\", \"Journal\", \"Yoga\",\"Speech-Record\",\"Organization\"]\n"
   ]
  },
  {
   "cell_type": "code",
   "execution_count": 3,
   "id": "659fc623-89d6-4958-8f73-601438de7879",
   "metadata": {},
   "outputs": [],
   "source": [
    "days= []\n",
    "\n",
    "for d in range(1,32):\n",
    "    days.append(d)"
   ]
  },
  {
   "cell_type": "code",
   "execution_count": 4,
   "id": "785bcb38-1db1-4acf-aa3e-d44454917794",
   "metadata": {},
   "outputs": [],
   "source": [
    "passive_tasks_df= pd.DataFrame(index =passive, columns= days)\n",
    "active_tasks_df= pd.DataFrame(index =active, columns= days)\n",
    "routine_tasks_df=pd.DataFrame(index =routine, columns= days)"
   ]
  },
  {
   "cell_type": "code",
   "execution_count": 5,
   "id": "7ac9c520-2b25-40ce-b560-9530c65ba93c",
   "metadata": {},
   "outputs": [],
   "source": [
    "#df[\"days\"][subjects]\n",
    "today = 0\n",
    "# active_tasks_df[today][]\n"
   ]
  },
  {
   "cell_type": "code",
   "execution_count": 6,
   "id": "b0e9f665-476e-4b90-9342-1c08d601ce07",
   "metadata": {},
   "outputs": [],
   "source": [
    "# active_tasks_df.to_csv(\"active_task_manager.csv\", index=True)\n",
    "# passive_tasks_df.to_csv(\"passive_task_manager.csv\", index=True)\n",
    "# routine_tasks_df.to_csv(\"routine_task_manager.csv\", index=True)"
   ]
  },
  {
   "cell_type": "code",
   "execution_count": 7,
   "id": "c000ce25-cd15-4834-b594-ac8ba838419e",
   "metadata": {},
   "outputs": [],
   "source": [
    "import datetime\n",
    "#create Month\n",
    "\n",
    "x = datetime.datetime.now()\n",
    "month= x.strftime(\"%B\")"
   ]
  },
  {
   "cell_type": "code",
   "execution_count": 8,
   "id": "cc505670-45b0-433f-a474-65b11fa9db2e",
   "metadata": {},
   "outputs": [],
   "source": [
    "# current_month= month + \"_active_task.csv\""
   ]
  },
  {
   "cell_type": "code",
   "execution_count": 9,
   "id": "9f52a28d-a752-47f7-9540-920e7779fa0b",
   "metadata": {},
   "outputs": [],
   "source": [
    "active_tasks_df.fillna(0).to_csv(\"Output/\"+ month + \"_active_task_manager.csv\", index=True)\n",
    "passive_tasks_df.fillna(0).to_csv(\"Output/\"+ month +\"_passive_task_manager.csv\", index=True)\n",
    "routine_tasks_df.fillna(0).to_csv(\"Output/\"+ month +\"_routine_task_manager.csv\", index=True)"
   ]
  },
  {
   "cell_type": "code",
   "execution_count": null,
   "id": "d3a8cfb8-81b5-4771-af93-0422c26f827a",
   "metadata": {},
   "outputs": [],
   "source": []
  }
 ],
 "metadata": {
  "kernelspec": {
   "display_name": "Python 3",
   "language": "python",
   "name": "python3"
  },
  "language_info": {
   "codemirror_mode": {
    "name": "ipython",
    "version": 3
   },
   "file_extension": ".py",
   "mimetype": "text/x-python",
   "name": "python",
   "nbconvert_exporter": "python",
   "pygments_lexer": "ipython3",
   "version": "3.8.5"
  }
 },
 "nbformat": 4,
 "nbformat_minor": 5
}
